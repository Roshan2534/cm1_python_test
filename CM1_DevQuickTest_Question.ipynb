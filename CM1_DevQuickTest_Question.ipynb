{
  "cells": [
    {
      "cell_type": "markdown",
      "metadata": {
        "colab_type": "text",
        "id": "view-in-github"
      },
      "source": [
        "<a href=\"https://colab.research.google.com/github/llu13701/cm1_python_test/blob/main/CM1_DevQuickTest_Question.ipynb\" target=\"_parent\"><img src=\"https://colab.research.google.com/assets/colab-badge.svg\" alt=\"Open In Colab\"/></a>"
      ]
    },
    {
      "cell_type": "markdown",
      "metadata": {
        "id": "rHaZgOQJ_cH2"
      },
      "source": [
        "### Test Instructions\n",
        "The purpose of this simple coding test is to allow us to get a grasp on the quality of your code and to identify the role that would suit you best within our team. You don't NEED to be able to answer all of the items, but the ones that you do answer need to be correct. Feel free to use Google or any other tools that you prefer to complete these tasks.\n",
        "\n",
        "Install any needed third-party libraries below this block. Please install the minimum amount of libraries you need."
      ]
    },
    {
      "cell_type": "markdown",
      "metadata": {
        "id": "DS8Y5bTE_cNX"
      },
      "source": [
        "!pip install whatever_you_need"
      ]
    },
    {
      "cell_type": "code",
      "execution_count": null,
      "metadata": {
        "id": "GeZ98TNS_ZDK"
      },
      "outputs": [],
      "source": [
        "# !pip3 install matplotlib \n",
        "# !pip3 install pandas\n",
        "# !pip3 install discord\n",
        "# !pip3 install nest_asyncio\n",
        "# !pip3 install langchain"
      ]
    },
    {
      "cell_type": "markdown",
      "metadata": {
        "id": "tT8GriLI_qcl"
      },
      "source": [
        "### Task 1 (Data manipulation / Visualization)\n",
        "Download the file: https://drive.google.com/file/d/1R_M3xI3b_BqAN_xWLqJDneg273X_sok5/view?usp=sharing\n",
        "\n",
        "In `message_data.csv` there's two columns, one corresponds to the unique id of someone sending a message and the other one to when they sent it.\n",
        "\n",
        "Generate an interactive chart that shows the percentage of daily messages sent by new users (those who sent their first message ever on a given day)."
      ]
    },
    {
      "cell_type": "code",
      "execution_count": 1,
      "metadata": {
        "colab": {
          "base_uri": "https://localhost:8080/",
          "height": 542
        },
        "id": "gMe_jfXp_2zu",
        "outputId": "519b7f24-5911-45b6-ad3a-218ad4aecbf0"
      },
      "outputs": [
        {
          "data": {
            "image/png": "[encoded data removed]",
            "text/plain": [
              "<Figure size 432x288 with 1 Axes>"
            ]
          },
          "metadata": {
            "needs_background": "light"
          },
          "output_type": "display_data"
        }
      ],
      "source": [
        "import pandas as pd\n",
        "import matplotlib.pyplot as plt\n",
        "\n",
        "# Read the CSV file into a DataFrame\n",
        "df = pd.read_csv('message_data.csv')\n",
        "\n",
        "# Convert message_time column to datetime\n",
        "df['message_time'] = pd.to_datetime(df['message_time'])\n",
        "\n",
        "# Identify the first message sent by each unique author_id\n",
        "first_messages = df.groupby('author_id')['message_time'].min().reset_index()\n",
        "\n",
        "# Count the number of new users sending messages each day\n",
        "new_users_per_day = first_messages.groupby(first_messages['message_time'].dt.date).size().reset_index(name='count')\n",
        "\n",
        "# Calculate the total messages sent each day\n",
        "total_messages_per_day = df['message_time'].dt.date.value_counts().reset_index().rename(columns={'index': 'date', 'message_time': 'total_messages'})\n",
        "\n",
        "# Merge the two dataframes on the date column\n",
        "combined_data = pd.merge(new_users_per_day, total_messages_per_day, left_on='message_time', right_on='date', how='inner')\n",
        "\n",
        "# Calculate the percentage of new users' messages for each day\n",
        "combined_data['percentage'] = (combined_data['count'] / combined_data['total_messages']) * 100\n",
        "\n",
        "# Generate the interactive chart\n",
        "plt.plot(combined_data['date'], combined_data['percentage'])\n",
        "plt.xlabel('Date')\n",
        "plt.ylabel('Percentage of Messages')\n",
        "plt.title('Percentage of Daily Messages Sent by New Users')\n",
        "plt.xticks(rotation=45)\n",
        "plt.show()"
      ]
    },
    {
      "cell_type": "markdown",
      "metadata": {
        "id": "DDe4I-E-_1M-"
      },
      "source": [
        "### Task 2 (Django)\n",
        "**To take the django portion of this test go to: https://github.com/llu13701/cm1_python_test and follow the instructions.**"
      ]
    },
    {
      "cell_type": "code",
      "execution_count": null,
      "metadata": {
        "id": "hF_IbJXY_rV5"
      },
      "outputs": [],
      "source": []
    },
    {
      "cell_type": "markdown",
      "metadata": {
        "id": "o6MoFpH7_tn2"
      },
      "source": [
        "### Task 3 (LangChain)\n",
        "Write a simple Chain that does the following:\n",
        "- Uses openai's gpt-3.5-turbo model.\n",
        "- Remembers the last 2 message exchanges, as well as the system message.\n",
        "- Greets people and tells a joke about their name."
      ]
    },
    {
      "cell_type": "code",
      "execution_count": null,
      "metadata": {
        "id": "flO7_-oA_xXv"
      },
      "outputs": [],
      "source": [
        "import os\n",
        "from langchain.chat_models import ChatOpenAI\n",
        "from langchain import ConversationChain, PromptTemplate\n",
        "\n",
        "os.environ['OPENAI_API_KEY'] = \"ENTER_YOUR_KEY_HERE\"\n",
        "\n",
        "class GPT:\n",
        "    def run_gpt(self, name, model):\n",
        "\n",
        "        full_conversation = ConversationChain(llm=model, verbose = True)\n",
        "\n",
        "        prompt = PromptTemplate(\n",
        "            input_variables = ['name'],\n",
        "            template = \"Tell me a Joke about my name {name}\\n\"\n",
        "        )\n",
        "\n",
        "        formatted_prompt = prompt.format(name = name)\n",
        "\n",
        "        joke = full_conversation.predict(input = formatted_prompt)\n",
        "        print(joke)\n",
        "\n",
        "        while True:\n",
        "            prompt = input(\"Continue the conversation or enter stop to exit.\")\n",
        "\n",
        "            if prompt == 'stop':\n",
        "                break\n",
        "\n",
        "            answer = full_conversation.predict(input = prompt)\n",
        "            print(answer)\n",
        "\n",
        "\n",
        "if __name__ == \"__main__\":\n",
        "    name = input(\"Welcome! Please enter your name: \\n\\n\")\n",
        "    gptobj = GPT()\n",
        "    llm = ChatOpenAI(model=\"gpt-3.5-turbo\")\n",
        "    gptobj.run_gpt(name, llm)\n",
        "\n",
        "\n"
      ]
    },
    {
      "cell_type": "markdown",
      "metadata": {},
      "source": [
        "### Notes:\n",
        "1. Enter your name when you run the code to get the joke.\n",
        "2. After Entering the Joke you can continue the conversation with the bot about anything you want.\n",
        "3. It will show the last 2 pairs of Human Prompt and AI Response."
      ]
    },
    {
      "cell_type": "markdown",
      "metadata": {
        "id": "HMAawESH_32U"
      },
      "source": [
        "### Task 4 (Discord API)\n",
        "\n",
        "Write a very simple discord bot that says \"Hello {user_name}!\" to every new incoming message in a discord server.\n"
      ]
    },
    {
      "cell_type": "code",
      "execution_count": null,
      "metadata": {
        "id": "D_xPdNDk_4OY"
      },
      "outputs": [],
      "source": [
        "import discord\n",
        "import nest_asyncio\n",
        "\n",
        "nest_asyncio.apply()\n",
        "async def send_message(message, is_private):\n",
        "    try:\n",
        "        response = 'Hello ' + str(message.author)\n",
        "        await message.author.send(response) if is_private else await message.channel.send(response)\n",
        "    except Exception as e:\n",
        "        print(\"Something went wrong! Please try again later!\")\n",
        "\n",
        "def run_bot():\n",
        "    Token = \"Your_Token_Here\"\n",
        "    intents = discord.Intents.default()\n",
        "    intents.message_content = True\n",
        "    client = discord.Client(intents=intents)\n",
        "    \n",
        "    @client.event\n",
        "    async def on_message(message):\n",
        "        if message.author == client.user:\n",
        "            return\n",
        "\n",
        "        user_message = str(message.content)\n",
        "        \n",
        "        if user_message[0] == '?':\n",
        "            await send_message(message, True)\n",
        "        else:\n",
        "            await send_message(message, False)\n",
        "\n",
        "    client.run(Token)\n",
        "\n",
        "if __name__ == \"__main__\":\n",
        "    run_bot()\n",
        "\n"
      ]
    },
    {
      "cell_type": "markdown",
      "metadata": {},
      "source": [
        "### Notes:\n",
        "1. Use the link below to invite the bot into your server(s).\n",
        "   [Invite Link](https://discord.com/api/oauth2/authorize?client_id=1129075257093935177&permissions=68719552512&scope=bot)\n",
        "2. Whatever you say the server will just reply with \"hello your username\".\n",
        "3. I have also added a small feature where if you type \"?\" and then you message, for example \"?hello\" the bot will message you directly instead of on the server."
      ]
    },
    {
      "cell_type": "markdown",
      "metadata": {
        "id": "shZgOMw7_4fS"
      },
      "source": [
        "### Task 5\n",
        "Use LangChain to write a discord bot that will:\n",
        "- Greet a user, making a joke about their name and then proceed to answer any question they have, whenever a user sends a message.\n",
        "- Use async with langchain chain calls.\n"
      ]
    },
    {
      "cell_type": "code",
      "execution_count": 5,
      "metadata": {
        "id": "6Wxh-dWx_4oy"
      },
      "outputs": [],
      "source": [
        "import discord, nest_asyncio, os\n",
        "from langchain.chat_models import ChatOpenAI\n",
        "from langchain.memory import ConversationBufferMemory\n",
        "from langchain import ConversationChain\n",
        "\n",
        "os.environ['OPENAI_API_KEY'] = 'YOUR_KEY'\n",
        "nest_asyncio.apply()\n",
        "\n",
        "\n",
        "async def send_message(message, user_message, response):\n",
        "    try:\n",
        "        if user_message[0] == '?':\n",
        "            await message.author.send(response)\n",
        "        else:\n",
        "            await message.channel.send(response)\n",
        "    except Exception as e:\n",
        "        print(str(e))\n",
        "\n",
        "def print_history(messages):\n",
        "    string = ''\n",
        "    for i in messages:\n",
        "        if type(i).__name__ == \"HumanMessage\":\n",
        "            string += \"Human: \" + i.content + '\\n'\n",
        "        else:\n",
        "            string += \"AI: \" + i.content + '\\n'\n",
        "    return string\n"
      ]
    },
    {
      "cell_type": "code",
      "execution_count": null,
      "metadata": {
        "id": "gxofoCWyCw6t"
      },
      "outputs": [],
      "source": [
        "class Bot:\n",
        "    def __init__(self):\n",
        "        self.first_message = False\n",
        "        self.intents = discord.Intents.default()\n",
        "        self.intents.message_content = True\n",
        "        self.Token = 'YOUR TOKEN'\n",
        "\n",
        "\n",
        "    def run_bot(self):\n",
        "        client = discord.Client(intents=self.intents)\n",
        "        llm = ChatOpenAI(model=\"gpt-3.5-turbo\")\n",
        "        full_conversation = ConversationChain(llm=llm, verbose=True, memory = ConversationBufferMemory())\n",
        "\n",
        "        @client.event\n",
        "        async def on_message(message):\n",
        "            if message.author == client.user:\n",
        "                return\n",
        "\n",
        "            user_message = str(message.content)\n",
        "\n",
        "            if self.first_message == False:\n",
        "                await send_message(message, user_message, 'Welcome ' + str(message.author) + ', how can I help you today?')\n",
        "                response = full_conversation.predict(input=f\"Tell me a joke about my name: {message.author.name}\")\n",
        "                await send_message(message, user_message, response)\n",
        "                self.first_message = True\n",
        "                await send_message(message, user_message, \"Ask me anything else! or to see previous chat enter `history`\")\n",
        "\n",
        "            else:\n",
        "                if user_message != 'history':\n",
        "                    response = full_conversation.predict(input=user_message)\n",
        "                    await send_message(message, user_message, response)\n",
        "                else:\n",
        "                    extracted_messages = full_conversation.memory.chat_memory.messages\n",
        "                    messages = print_history(extracted_messages)\n",
        "                    await send_message(message, user_message, messages)\n",
        "\n",
        "        client.run(self.Token)\n",
        "\n",
        "\n",
        "if __name__ == \"__main__\":\n",
        "    botobj = Bot()\n",
        "    botobj.run_bot()"
      ]
    }
  ],
  "metadata": {
    "colab": {
      "include_colab_link": true,
      "provenance": []
    },
    "kernelspec": {
      "display_name": "Python 3",
      "name": "python3"
    },
    "language_info": {
      "codemirror_mode": {
        "name": "ipython",
        "version": 3
      },
      "file_extension": ".py",
      "mimetype": "text/x-python",
      "name": "python",
      "nbconvert_exporter": "python",
      "pygments_lexer": "ipython3",
      "version": "3.9.7"
    }
  },
  "nbformat": 4,
  "nbformat_minor": 0
}
